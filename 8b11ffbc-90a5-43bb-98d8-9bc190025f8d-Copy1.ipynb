{
 "cells": [
  {
   "cell_type": "markdown",
   "metadata": {},
   "source": [
    "### Descrição do Projeto:\n",
    "Você trabalha para a loja online Ice, que vende videogames no mundo todo. As avaliações de usuários e especialistas, gêneros, plataformas (por exemplo, Xbox ou PlayStation) e dados históricos sobre vendas de jogos estão disponíveis em fontes abertas. Você precisa identificar padrões que determinam se um jogo tem sucesso ou não. Isso vai permitir que você identifique possíveis sucessos e planeje campanhas publicitárias.\n",
    "\n",
    "Os dados disponibilizados remontam a 2016. Vamos imaginar que estamos em dezembro de 2016 e você está planejando uma campanha para 2017.\n",
    "\n",
    "O conjunto de dados contém uma coluna de \"rating\" (classificação) que armazena a classificação ESRB de cada jogo. O Entertainment Software Rating Board avalia o conteúdo de um jogo e atribui uma classificação etária, como Teen (Adolescente) ou Mature (Adulto)."
   ]
  },
  {
   "cell_type": "markdown",
   "metadata": {},
   "source": [
    "Descrição de dados\n",
    "—Name (nome)\n",
    "\n",
    "—Platform (plataforma)\n",
    "\n",
    "—Year_of_Release (Ano de lançamento)\n",
    "\n",
    "—Genre (gênero)\n",
    "\n",
    "—NA_sales (vendas norte-americanas em milhões de USD)\n",
    "\n",
    "—EU_sales (vendas na Europa em milhões de USD)\n",
    "\n",
    "—JP_sales (vendas no Japão em milhões de USD)\n",
    "\n",
    "—Other_sales (vendas em outros países em em milhões de USD)\n",
    "\n",
    "—Critic_Score (Pontuação crítica) (máximo de 100)\n",
    "\n",
    "—User_Score (Pontuação do usuário) (máximo de 10)\n",
    "\n",
    "—Classificação (ESRB)\n",
    "\n",
    "Os dados de 2016 podem estar incompletos."
   ]
  },
  {
   "cell_type": "markdown",
   "metadata": {},
   "source": [
    "####  Análise os dados\n",
    "\n",
    "Veja quantos jogos foram lançados em anos diferentes Os dados de cada período são significativos?\n",
    "Veja como as vendas variaram de plataforma para plataforma. Escolha as plataformas com as maiores vendas totais e construa uma distribuição com base em dados para cada ano. Encontre as plataformas que costumavam ser populares, mas agora não têm vendas. Quanto tempo leva para as novas plataformas aparecerem e as antigas desaparecerem?\n",
    "Determine para qual período você deve pegar dados. Para fazê-lo, olhe para suas respostas para as perguntas anteriores. Os dados te deveriam permitir construir um modelo para 2017.\n",
    "Trabalhar apenas com os dados que você decidiu que são relevantes. Desconsidere os dados de anos anteriores.\n",
    "Quais plataformas estão liderando em vendas? Quais estão crescendo ou diminuindo? Selecione várias plataformas potencialmente lucrativas.\n",
    "Construa um diagrama de caixa para as vendas globais de todos os jogos, divididos por plataforma. As diferenças nas vendas são significativas? E quanto às vendas médias em várias plataformas? Descreva suas descobertas.\n",
    "Veja como as avaliações de usuários e profissionais afetam as vendas de uma plataforma popular (você escolhe). Construa um gráfico de dispersão e calcule a correlação entre revisões e vendas. Tire conclusões.\n",
    "Com essas conclusões em mente, compare as vendas em outras plataformas.\n",
    "Dê uma olhada na distribuição geral de jogos por gênero. O que podemos dizer sobre os gêneros mais lucrativos? Você pode generalizar sobre gêneros com vendas altas e baixas?\n",
    "Etapa 4. Crie um perfil de usuário para cada região\n",
    "\n",
    "Para cada região (AN, UE, JP), determine:\n",
    "\n",
    "As cinco plataformas principais. Descreva as variações das suas quotas de mercado de região para região.\n",
    "Os cinco principais gêneros. Explique a diferença.\n",
    "As classificações do ESRB afetam as vendas em regiões individuais?\n",
    "Etapa 5. Teste as seguintes hipóteses:\n",
    "\n",
    "— As classificações médias dos usuários das plataformas Xbox One e PC são as mesmas.\n",
    "\n",
    "— As classificações médias de usuários para os gêneros Action (ação) e Sports (esportes) são diferentes.\n",
    "\n",
    "Defina o valor do limiar alfa você mesmo.\n",
    "\n",
    "Explique:\n",
    "\n",
    "— Como você formula as hipóteses alternativas e nulas.\n",
    "\n",
    "— Quais critérios você usou para testar as hipóteses, e por quê\n",
    "\n",
    "Etapa 6. Escreva uma conclusão geral\n",
    "\n",
    "Formato: Complete a tarefa no Jupyter Notebook. Insira o código nas células code e textos de explicação nas células markdown. Aplique a formatação e adicione títulos."
   ]
  },
  {
   "cell_type": "markdown",
   "metadata": {},
   "source": [
    "Instruções para concluir o projeto\n",
    "Etapa 1. Abra o arquivo de dados e estude as informações gerais"
   ]
  },
  {
   "cell_type": "code",
   "execution_count": 2,
   "metadata": {},
   "outputs": [],
   "source": [
    "import pandas as pd\n",
    "from matplotlib import pyplot as plt\n",
    "import numpy as np\n",
    "import seaborn as sns"
   ]
  },
  {
   "cell_type": "code",
   "execution_count": 3,
   "metadata": {},
   "outputs": [],
   "source": [
    "df = pd.read_csv('/datasets/games.csv')"
   ]
  },
  {
   "cell_type": "code",
   "execution_count": 4,
   "metadata": {},
   "outputs": [
    {
     "name": "stdout",
     "output_type": "stream",
     "text": [
      "<class 'pandas.core.frame.DataFrame'>\n",
      "RangeIndex: 16715 entries, 0 to 16714\n",
      "Data columns (total 11 columns):\n",
      " #   Column           Non-Null Count  Dtype  \n",
      "---  ------           --------------  -----  \n",
      " 0   Name             16713 non-null  object \n",
      " 1   Platform         16715 non-null  object \n",
      " 2   Year_of_Release  16446 non-null  float64\n",
      " 3   Genre            16713 non-null  object \n",
      " 4   NA_sales         16715 non-null  float64\n",
      " 5   EU_sales         16715 non-null  float64\n",
      " 6   JP_sales         16715 non-null  float64\n",
      " 7   Other_sales      16715 non-null  float64\n",
      " 8   Critic_Score     8137 non-null   float64\n",
      " 9   User_Score       10014 non-null  object \n",
      " 10  Rating           9949 non-null   object \n",
      "dtypes: float64(6), object(5)\n",
      "memory usage: 1.4+ MB\n"
     ]
    }
   ],
   "source": [
    "df.info()"
   ]
  },
  {
   "cell_type": "code",
   "execution_count": 5,
   "metadata": {},
   "outputs": [
    {
     "name": "stdout",
     "output_type": "stream",
     "text": [
      "                        Name Platform  Year_of_Release         Genre  \\\n",
      "0                 Wii Sports      Wii           2006.0        Sports   \n",
      "1          Super Mario Bros.      NES           1985.0      Platform   \n",
      "2             Mario Kart Wii      Wii           2008.0        Racing   \n",
      "3          Wii Sports Resort      Wii           2009.0        Sports   \n",
      "4   Pokemon Red/Pokemon Blue       GB           1996.0  Role-Playing   \n",
      "5                     Tetris       GB           1989.0        Puzzle   \n",
      "6      New Super Mario Bros.       DS           2006.0      Platform   \n",
      "7                   Wii Play      Wii           2006.0          Misc   \n",
      "8  New Super Mario Bros. Wii      Wii           2009.0      Platform   \n",
      "9                  Duck Hunt      NES           1984.0       Shooter   \n",
      "\n",
      "   NA_sales  EU_sales  JP_sales  Other_sales  Critic_Score User_Score Rating  \n",
      "0     41.36     28.96      3.77         8.45          76.0          8      E  \n",
      "1     29.08      3.58      6.81         0.77           NaN        NaN    NaN  \n",
      "2     15.68     12.76      3.79         3.29          82.0        8.3      E  \n",
      "3     15.61     10.93      3.28         2.95          80.0          8      E  \n",
      "4     11.27      8.89     10.22         1.00           NaN        NaN    NaN  \n",
      "5     23.20      2.26      4.22         0.58           NaN        NaN    NaN  \n",
      "6     11.28      9.14      6.50         2.88          89.0        8.5      E  \n",
      "7     13.96      9.18      2.93         2.84          58.0        6.6      E  \n",
      "8     14.44      6.94      4.70         2.24          87.0        8.4      E  \n",
      "9     26.93      0.63      0.28         0.47           NaN        NaN    NaN  \n"
     ]
    }
   ],
   "source": [
    "print(df.head(10))"
   ]
  },
  {
   "cell_type": "markdown",
   "metadata": {},
   "source": [
    "#### Resposta do Aluno: Etapa 1 Concluída"
   ]
  },
  {
   "cell_type": "markdown",
   "metadata": {},
   "source": [
    "Etapa 2. Prepare os dados\n",
    "\n",
    "Substituir os nomes das colunas (transformar tudo em minúsculos).\n",
    "Converta os dados para os tipos necessários.\n",
    "Descreva as colunas onde os tipos de dados foram alterados e por quê.\n",
    "Se necessário, decida como lidar com valores ausentes:\n",
    "\n",
    "Explique por que você preencheu os valores ausentes da forma que você fez ou por que você decidiu deixá-los em branco.\n",
    "\n",
    "Por que acha que os valores estão ausentes? Dê possíveis razões.\n",
    "\n",
    "Preste atenção à abreviação TBD (a ser determinada). Especifique como pretende lidar com esses casos.\n",
    "\n",
    "Calcule o total de vendas (a soma das vendas em todas as regiões) para cada jogo e coloque esses valores em uma coluna separada."
   ]
  },
  {
   "cell_type": "code",
   "execution_count": 6,
   "metadata": {},
   "outputs": [],
   "source": [
    "df.columns = df.columns.str.lower()"
   ]
  },
  {
   "cell_type": "code",
   "execution_count": 7,
   "metadata": {},
   "outputs": [
    {
     "name": "stdout",
     "output_type": "stream",
     "text": [
      "         name platform  year_of_release   genre  na_sales  eu_sales  jp_sales  \\\n",
      "0  Wii Sports      Wii           2006.0  Sports     41.36     28.96      3.77   \n",
      "\n",
      "   other_sales  critic_score user_score rating  \n",
      "0         8.45          76.0          8      E  \n"
     ]
    }
   ],
   "source": [
    "print(df.head(1))"
   ]
  },
  {
   "cell_type": "code",
   "execution_count": 8,
   "metadata": {},
   "outputs": [
    {
     "name": "stdout",
     "output_type": "stream",
     "text": [
      "68.96767850559173 7.125046113306982\n",
      "                       name platform  year_of_release         genre  na_sales  \\\n",
      "0                Wii Sports      Wii           2006.0        Sports     41.36   \n",
      "1         Super Mario Bros.      NES           1985.0      Platform     29.08   \n",
      "2            Mario Kart Wii      Wii           2008.0        Racing     15.68   \n",
      "3         Wii Sports Resort      Wii           2009.0        Sports     15.61   \n",
      "4  Pokemon Red/Pokemon Blue       GB           1996.0  Role-Playing     11.27   \n",
      "\n",
      "   eu_sales  jp_sales  other_sales  critic_score  user_score rating  \n",
      "0     28.96      3.77         8.45     76.000000    8.000000      E  \n",
      "1      3.58      6.81         0.77     68.967679    7.125046    NaN  \n",
      "2     12.76      3.79         3.29     82.000000    8.300000      E  \n",
      "3     10.93      3.28         2.95     80.000000    8.000000      E  \n",
      "4      8.89     10.22         1.00     68.967679    7.125046    NaN  \n"
     ]
    }
   ],
   "source": [
    "# vejo que os valores ausentes das colunas \"score\" podemos utilizar uma média, para preencher esses valores ausentes, visto que é uma quantidade relativamente grande para ser ignorado.\n",
    "# verifiquei que a coluna 'user_score' está como o tipo object, precisa converter.\n",
    "\n",
    "df['user_score'] = pd.to_numeric(df['user_score'], errors='coerce') #conversão coluna 'user_score' p/ float\n",
    "\n",
    "critic_mean = df['critic_score'].mean() # média da coluna 'critic_score'\n",
    "user_mean = df['user_score'].mean() # média da coluna 'user_score' \n",
    "print(critic_mean, user_mean)\n",
    "\n",
    "df['critic_score'] = df['critic_score'].fillna(critic_mean) # substituindo os valores ausentes pela variável critic_mean\n",
    "df['user_score'] = df['user_score'].fillna(user_mean) # substituindo os valores ausentes pela variável user_mean\n",
    "\n",
    "print(df.head())"
   ]
  },
  {
   "cell_type": "code",
   "execution_count": null,
   "metadata": {},
   "outputs": [],
   "source": []
  },
  {
   "cell_type": "markdown",
   "metadata": {},
   "source": [
    "##### Resposta do Aluno: Olhando o DF, vejo que alguns jogos mais antigos, suas notas estão ausentes (antes de 2000), por isso estou usando a média, principalmente por esses jogos ter categoria e desenvolvedor em comum de outros presentes, então acredito ser um valor interessante que pode ser levado em consideração."
   ]
  },
  {
   "cell_type": "code",
   "execution_count": 9,
   "metadata": {},
   "outputs": [
    {
     "name": "stdout",
     "output_type": "stream",
     "text": [
      "                       name platform  year_of_release         genre  na_sales  \\\n",
      "0                Wii Sports      Wii           2006.0        Sports     41.36   \n",
      "1         Super Mario Bros.      NES           1985.0      Platform     29.08   \n",
      "2            Mario Kart Wii      Wii           2008.0        Racing     15.68   \n",
      "3         Wii Sports Resort      Wii           2009.0        Sports     15.61   \n",
      "4  Pokemon Red/Pokemon Blue       GB           1996.0  Role-Playing     11.27   \n",
      "\n",
      "   eu_sales  jp_sales  other_sales  critic_score  user_score rating  \\\n",
      "0     28.96      3.77         8.45     76.000000    8.000000      E   \n",
      "1      3.58      6.81         0.77     68.967679    7.125046    NaN   \n",
      "2     12.76      3.79         3.29     82.000000    8.300000      E   \n",
      "3     10.93      3.28         2.95     80.000000    8.000000      E   \n",
      "4      8.89     10.22         1.00     68.967679    7.125046    NaN   \n",
      "\n",
      "   total_sales  \n",
      "0        82.54  \n",
      "1        40.24  \n",
      "2        35.52  \n",
      "3        32.77  \n",
      "4        31.38  \n"
     ]
    }
   ],
   "source": [
    "# Somatória total de vendas e inclusão de coluna 'total_sales' no DF:\n",
    "df['total_sales'] = df['na_sales'] + df['eu_sales'] + df['jp_sales'] + df['other_sales']\n",
    "print(df.head())"
   ]
  },
  {
   "cell_type": "markdown",
   "metadata": {},
   "source": [
    "#### Resposta do Aluno: Etapa 2 Concluída"
   ]
  },
  {
   "cell_type": "markdown",
   "metadata": {},
   "source": [
    "Etapa 3. Analise os dados\n",
    "\n",
    "Veja quantos jogos foram lançados em anos diferentes Os dados de cada período são significativos?\n",
    "Veja como as vendas variaram de plataforma para plataforma. Escolha as plataformas com as maiores vendas totais e construa uma distribuição com base em dados para cada ano. Encontre as plataformas que costumavam ser populares, mas agora não têm vendas. Quanto tempo leva para as novas plataformas aparecerem e as antigas desaparecerem?\n",
    "Determine para qual período você deve pegar dados. Para fazê-lo, olhe para suas respostas para as perguntas anteriores. Os dados te deveriam permitir construir um modelo para 2017.\n",
    "Trabalhar apenas com os dados que você decidiu que são relevantes. Desconsidere os dados de anos anteriores.\n",
    "Quais plataformas estão liderando em vendas? Quais estão crescendo ou diminuindo? Selecione várias plataformas potencialmente lucrativas.\n",
    "Construa um diagrama de caixa para as vendas globais de todos os jogos, divididos por plataforma. As diferenças nas vendas são significativas? E quanto às vendas médias em várias plataformas? Descreva suas descobertas.\n",
    "Veja como as avaliações de usuários e profissionais afetam as vendas de uma plataforma popular (você escolhe). Construa um gráfico de dispersão e calcule a correlação entre revisões e vendas. Tire conclusões.\n",
    "Com essas conclusões em mente, compare as vendas em outras plataformas.\n",
    "Dê uma olhada na distribuição geral de jogos por gênero. O que podemos dizer sobre os gêneros mais lucrativos? Você pode generalizar sobre gêneros com vendas altas e baixas?"
   ]
  },
  {
   "cell_type": "code",
   "execution_count": 10,
   "metadata": {},
   "outputs": [
    {
     "name": "stdout",
     "output_type": "stream",
     "text": [
      "                 name  platform  genre  na_sales  eu_sales  jp_sales  \\\n",
      "year_of_release                                                        \n",
      "2008.0           1427      1427   1427      1427      1427      1427   \n",
      "2009.0           1426      1426   1426      1426      1426      1426   \n",
      "2010.0           1255      1255   1255      1255      1255      1255   \n",
      "2007.0           1197      1197   1197      1197      1197      1197   \n",
      "2011.0           1136      1136   1136      1136      1136      1136   \n",
      "2006.0           1006      1006   1006      1006      1006      1006   \n",
      "2005.0            939       939    939       939       939       939   \n",
      "2002.0            829       829    829       829       829       829   \n",
      "2003.0            775       775    775       775       775       775   \n",
      "2004.0            762       762    762       762       762       762   \n",
      "\n",
      "                 other_sales  critic_score  user_score  rating  total_sales  \n",
      "year_of_release                                                              \n",
      "2008.0                  1427          1427        1427     981         1427  \n",
      "2009.0                  1426          1426        1426    1011         1426  \n",
      "2010.0                  1255          1255        1255     799         1255  \n",
      "2007.0                  1197          1197        1197     821         1197  \n",
      "2011.0                  1136          1136        1136     703         1136  \n",
      "2006.0                  1006          1006        1006     678         1006  \n",
      "2005.0                   939           939         939     706          939  \n",
      "2002.0                   829           829         829     655          829  \n",
      "2003.0                   775           775         775     613          775  \n",
      "2004.0                   762           762         762     598          762  \n"
     ]
    }
   ],
   "source": [
    "# ver quantidade de jogos lançados por ano:\n",
    "year_games = df.groupby('year_of_release').count().sort_values(by='name', ascending=False) # quantidade de jogos por ano\n",
    "print(year_games.head(10)) # top 10 anos com maior número de lançamentos"
   ]
  },
  {
   "cell_type": "code",
   "execution_count": 11,
   "metadata": {},
   "outputs": [
    {
     "name": "stdout",
     "output_type": "stream",
     "text": [
      "platform\n",
      "PS2     1255.77\n",
      "X360     971.42\n",
      "PS3      939.65\n",
      "Wii      907.51\n",
      "DS       806.12\n",
      "PS       730.86\n",
      "GBA      317.85\n",
      "PS4      314.14\n",
      "PSP      294.05\n",
      "PC       259.52\n",
      "Name: total_sales, dtype: float64\n"
     ]
    }
   ],
   "source": [
    "# verificando as plataformas com maiores vendas:\n",
    "top_sales = df.groupby('platform')['total_sales'].sum().sort_values(ascending=False) \n",
    "print(top_sales.head(10)) # top 10 maiores vendas"
   ]
  },
  {
   "cell_type": "code",
   "execution_count": 12,
   "metadata": {},
   "outputs": [
    {
     "data": {
      "image/png": "[encoded data removed]",
      "text/plain": [
       "<Figure size 640x480 with 1 Axes>"
      ]
     },
     "metadata": {},
     "output_type": "display_data"
    }
   ],
   "source": [
    "# fazendo um gráfico vendas:\n",
    "top_sales.plot(kind='bar', color='green')\n",
    "plt.legend(['vendas'])\n",
    "plt.title('Vendas por Plataforma')\n",
    "plt.show()"
   ]
  },
  {
   "cell_type": "code",
   "execution_count": 13,
   "metadata": {
    "scrolled": true
   },
   "outputs": [
    {
     "data": {
      "image/png": "[encoded data removed]",
      "text/plain": [
       "<Figure size 640x480 with 1 Axes>"
      ]
     },
     "metadata": {},
     "output_type": "display_data"
    }
   ],
   "source": [
    "df.groupby('year_of_release')['platform'].count().plot()\n",
    "plt.title('Produção de Jogos por Ano')\n",
    "plt.xlabel('Ano de Lançamento')\n",
    "plt.ylabel('Número de Jogos Lançados')\n",
    "plt.show()"
   ]
  },
  {
   "cell_type": "code",
   "execution_count": 60,
   "metadata": {},
   "outputs": [
    {
     "data": {
      "image/png": "[encoded data removed]",
      "text/plain": [
       "<Figure size 640x480 with 1 Axes>"
      ]
     },
     "metadata": {},
     "output_type": "display_data"
    }
   ],
   "source": [
    "# Irei analisar os jogos/plataformas dos ultimos 3 anos (como projeção para 2017).\n",
    "# Irei filtrar quais tiveram maior resultados nos anos anteriores, periodo depois de 2014\n",
    "\n",
    "last_years = df[df['year_of_release'] > 2014]  #filtragem por data\n",
    "last_years.groupby('platform')['total_sales'].sum().plot(kind='bar')\n",
    "plt.title('Vendas dos ultimos Anos')\n",
    "plt.xlabel('Plataformas')\n",
    "plt.ylabel('Venda em Milhões')\n",
    "plt.show()"
   ]
  },
  {
   "cell_type": "code",
   "execution_count": 15,
   "metadata": {},
   "outputs": [
    {
     "data": {
      "image/png": "[encoded data removed]",
      "text/plain": [
       "<Figure size 640x480 with 1 Axes>"
      ]
     },
     "metadata": {},
     "output_type": "display_data"
    }
   ],
   "source": [
    "# histograma: Verificando a frequência (ciclo) de lançamentos \n",
    "df['year_of_release'].plot(kind='hist', bins=31)\n",
    "plt.show()"
   ]
  },
  {
   "cell_type": "code",
   "execution_count": 16,
   "metadata": {},
   "outputs": [
    {
     "data": {
      "image/png": "[encoded data removed]",
      "text/plain": [
       "<Figure size 640x480 with 1 Axes>"
      ]
     },
     "metadata": {},
     "output_type": "display_data"
    }
   ],
   "source": [
    "# boxplot\n",
    "sns.boxplot(x='platform', y='total_sales', data=df)\n",
    "plt.title('Vendas Globais')\n",
    "plt.xlabel('Plataformas')\n",
    "plt.xticks(rotation=45)\n",
    "plt.show()"
   ]
  },
  {
   "cell_type": "code",
   "execution_count": 17,
   "metadata": {},
   "outputs": [
    {
     "data": {
      "image/png": "[encoded data removed]",
      "text/plain": [
       "<Figure size 640x480 with 1 Axes>"
      ]
     },
     "metadata": {},
     "output_type": "display_data"
    }
   ],
   "source": [
    "# Analisando os valores de critic_score e user_score e se tem alguma correlação as vendas:\n",
    "def comparate(score):\n",
    "    if score < 60:\n",
    "        return 'Abaixo da média'\n",
    "    elif 60 <= score <= 70:\n",
    "        return 'Mediano'\n",
    "    elif 70 < score <= 80:\n",
    "        return 'Bom'\n",
    "    elif score > 80:\n",
    "        return 'Excelente'\n",
    "    else:\n",
    "        return 'Sem nota'\n",
    "\n",
    "# Criando coluna com função acima:\n",
    "df['critic_stats'] = df['critic_score'].apply(comparate)\n",
    "\n",
    "df.groupby('critic_stats')['total_sales'].sum().plot()\n",
    "plt.title('Games: Relação Nota dos Críticos x Vendas')\n",
    "plt.xlabel('Avaliação dos Críticos (jogos)')\n",
    "plt.ylabel('Vendas')\n",
    "plt.show()\n"
   ]
  },
  {
   "cell_type": "code",
   "execution_count": 18,
   "metadata": {},
   "outputs": [
    {
     "name": "stdout",
     "output_type": "stream",
     "text": [
      "genre\n",
      "Action          1744.17\n",
      "Sports          1331.27\n",
      "Shooter         1052.45\n",
      "Role-Playing     934.56\n",
      "Platform         827.77\n",
      "Misc             802.51\n",
      "Racing           728.67\n",
      "Fighting         447.53\n",
      "Simulation       389.97\n",
      "Puzzle           242.57\n",
      "Adventure        237.59\n",
      "Strategy         174.23\n",
      "Name: total_sales, dtype: float64\n"
     ]
    }
   ],
   "source": [
    "#verificando os generos mais vendidos:\n",
    "genres = df.groupby('genre')['total_sales'].sum().sort_values(ascending=False)\n",
    "print(genres)"
   ]
  },
  {
   "cell_type": "markdown",
   "metadata": {},
   "source": [
    "##### Resposta do Aluno: Criei 2 graficos, podemos notar que o maior número de vendas, são das plataformas mais modernas. No mesmo período onde tivemos maior número de lançamentos, podemos realizar um teste estatístico para testar a hipótese que tivemos um maior número de vendas porque tivemos um maior número de lançamentos, podemos testar a hipotese nula e alternativa.\n",
    "##### Aluno: Vemos as plataformas com maiores vendas no grafico de barras \"Venda por Plataforma\"\n",
    "##### Aluno: Outro ponto importante é observar, que tem um ciclo de 5 anos, onde novos jogos são lançados, e outros passam a serem esquecidos.\n",
    "##### Aluno: Aparentemente os jogos considerados medianos pelos criticos, tem maior venda do que os considerados Excelentes / Bons, contudo vale relembrar que parte das notas médias, foram incluídas inicialmente no DF nos valores NaN, lembrando que a grande maioria de valores ausentes, eram jogos antes dos anos 2000s. mais um ponto para analisar na hipotese Nula/Alternativa em relação ao número de venda dos novos modelos mencionado anteriormente.\n",
    "##### Aluno: Podemos ver os gêneros mais jogados(vendidos), citando Ação, Esportes , tiro.. e estratégia sendo o menos jogado :,("
   ]
  },
  {
   "cell_type": "markdown",
   "metadata": {},
   "source": [
    "Etapa 4. Crie um perfil de usuário para cada região\n",
    "\n",
    "Para cada região (AN, UE, JP), determine:\n",
    "\n",
    "As cinco plataformas principais. Descreva as variações das suas quotas de mercado de região para região.\n",
    "Os cinco principais gêneros. Explique a diferença.\n",
    "As classificações do ESRB afetam as vendas em regiões individuais?"
   ]
  },
  {
   "cell_type": "code",
   "execution_count": 19,
   "metadata": {},
   "outputs": [
    {
     "name": "stdout",
     "output_type": "stream",
     "text": [
      "platform\n",
      "DS      175.57\n",
      "PS      139.82\n",
      "PS2     139.20\n",
      "SNES    116.55\n",
      "3DS     100.67\n",
      "Name: jp_sales, dtype: float64\n",
      "\n",
      "genre\n",
      "Role-Playing    355.41\n",
      "Action          161.43\n",
      "Sports          135.54\n",
      "Platform        130.83\n",
      "Misc            108.11\n",
      "Name: jp_sales, dtype: float64\n"
     ]
    }
   ],
   "source": [
    "# Perfil Usuário JP\n",
    "jp_platform = df.groupby('platform')['jp_sales'].sum().sort_values(ascending=False) # ver plataformas mais jogadas\n",
    "jp_genre = df.groupby('genre')['jp_sales'].sum().sort_values(ascending=False) # ver generos mais jogados\n",
    "print(jp_platform.head())\n",
    "print()\n",
    "print(jp_genre.head())"
   ]
  },
  {
   "cell_type": "code",
   "execution_count": 20,
   "metadata": {},
   "outputs": [
    {
     "data": {
      "image/png": "[encoded data removed]",
      "text/plain": [
       "<Figure size 500x300 with 1 Axes>"
      ]
     },
     "metadata": {},
     "output_type": "display_data"
    }
   ],
   "source": [
    "jp_genre.plot(kind='bar', color='red', rot=45, figsize=(5, 3))\n",
    "plt.title('Generos Preferidos Japão')\n",
    "plt.show()"
   ]
  },
  {
   "cell_type": "code",
   "execution_count": 21,
   "metadata": {},
   "outputs": [
    {
     "name": "stdout",
     "output_type": "stream",
     "text": [
      "E       3990\n",
      "T       2961\n",
      "M       1563\n",
      "E10+    1420\n",
      "EC         8\n",
      "RP         3\n",
      "K-A        3\n",
      "AO         1\n",
      "Name: rating, dtype: int64\n"
     ]
    },
    {
     "data": {
      "image/png": "[encoded data removed]",
      "text/plain": [
       "<Figure size 500x300 with 1 Axes>"
      ]
     },
     "metadata": {},
     "output_type": "display_data"
    }
   ],
   "source": [
    "print(df['rating'].value_counts())\n",
    "\n",
    "df.groupby('rating')['jp_sales'].sum().plot(figsize=(5,3))\n",
    "plt.show()"
   ]
  },
  {
   "cell_type": "code",
   "execution_count": 22,
   "metadata": {},
   "outputs": [
    {
     "name": "stdout",
     "output_type": "stream",
     "text": [
      "platform\n",
      "PS2     339.29\n",
      "PS3     330.29\n",
      "X360    270.76\n",
      "Wii     262.21\n",
      "PS      213.61\n",
      "Name: eu_sales, dtype: float64\n",
      "\n",
      "genre\n",
      "Action     519.13\n",
      "Sports     376.79\n",
      "Shooter    317.34\n",
      "Racing     236.51\n",
      "Misc       212.74\n",
      "Name: eu_sales, dtype: float64\n"
     ]
    },
    {
     "data": {
      "image/png": "[encoded data removed]",
      "text/plain": [
       "<Figure size 500x300 with 1 Axes>"
      ]
     },
     "metadata": {},
     "output_type": "display_data"
    },
    {
     "data": {
      "image/png": "[encoded data removed]",
      "text/plain": [
       "<Figure size 500x300 with 1 Axes>"
      ]
     },
     "metadata": {},
     "output_type": "display_data"
    }
   ],
   "source": [
    "# Perfil Usuário EU:\n",
    "eu_platform = df.groupby('platform')['eu_sales'].sum().sort_values(ascending=False)\n",
    "eu_genre = df.groupby('genre')['eu_sales'].sum().sort_values(ascending=False)\n",
    "print(eu_platform.head())\n",
    "print()\n",
    "print(eu_genre.head())\n",
    "\n",
    "eu_genre.plot(kind='bar', color='purple', rot=45, figsize=(5, 3))\n",
    "plt.title('Generos Preferidos Europa')\n",
    "plt.show()\n",
    "\n",
    "df.groupby('rating')['eu_sales'].sum().plot(figsize=(5,3))\n",
    "plt.show()"
   ]
  },
  {
   "cell_type": "code",
   "execution_count": 23,
   "metadata": {},
   "outputs": [
    {
     "name": "stdout",
     "output_type": "stream",
     "text": [
      "platform\n",
      "X360    602.47\n",
      "PS2     583.84\n",
      "Wii     496.90\n",
      "PS3     393.49\n",
      "DS      382.40\n",
      "Name: na_sales, dtype: float64\n",
      "\n",
      "genre\n",
      "Action      879.01\n",
      "Sports      684.43\n",
      "Shooter     592.24\n",
      "Platform    445.50\n",
      "Misc        407.27\n",
      "Name: na_sales, dtype: float64\n"
     ]
    },
    {
     "data": {
      "image/png": "[encoded data removed]",
      "text/plain": [
       "<Figure size 500x300 with 1 Axes>"
      ]
     },
     "metadata": {},
     "output_type": "display_data"
    },
    {
     "data": {
      "image/png": "[encoded data removed]",
      "text/plain": [
       "<Figure size 500x300 with 1 Axes>"
      ]
     },
     "metadata": {},
     "output_type": "display_data"
    }
   ],
   "source": [
    "# Perfil Usuário AN:\n",
    "na_platform = df.groupby('platform')['na_sales'].sum().sort_values(ascending=False)\n",
    "na_genre = df.groupby('genre')['na_sales'].sum().sort_values(ascending=False)\n",
    "print(na_platform.head())\n",
    "print()\n",
    "print(na_genre.head())\n",
    "\n",
    "na_genre.plot(kind='bar', rot=45, figsize=(5, 3))\n",
    "plt.title('Generos Preferidos EUA')\n",
    "plt.show()\n",
    "\n",
    "df.groupby('rating')['na_sales'].sum().plot(figsize=(5,3))\n",
    "plt.show()"
   ]
  },
  {
   "cell_type": "markdown",
   "metadata": {},
   "source": [
    "##### Resposta do Aluno: há diferença do perfil do usuário de cada região, principalmente usuários do japão, onde o role-playing e plataforma DS são os mais consumidos, já nas demais regiões genero Ação segue liderando a lista, porem mudando a preferência PS2 Europa, e X360 Americanos. classificações do ESRB proporcionalmente iguais."
   ]
  },
  {
   "cell_type": "markdown",
   "metadata": {},
   "source": [
    "Etapa 5. Teste as seguintes hipóteses:\n",
    "\n",
    "— As classificações médias dos usuários das plataformas Xbox One e PC são as mesmas.\n",
    "\n",
    "— As classificações médias de usuários para os gêneros Action (ação) e Sports (esportes) são diferentes.\n",
    "\n",
    "Defina o valor do limiar alfa você mesmo.\n",
    "\n",
    "Explique:\n",
    "\n",
    "— Como você formula as hipóteses alternativas e nulas.\n",
    "\n",
    "— Quais critérios você usou para testar as hipóteses, e por quê"
   ]
  },
  {
   "cell_type": "code",
   "execution_count": 24,
   "metadata": {},
   "outputs": [],
   "source": [
    "#importando biblioteca para essa etapa:\n",
    "from scipy import stats as st"
   ]
  },
  {
   "cell_type": "code",
   "execution_count": 25,
   "metadata": {
    "scrolled": true
   },
   "outputs": [
    {
     "name": "stdout",
     "output_type": "stream",
     "text": [
      "valor-p: 1.0718459399074417e-05\n",
      "rejeitar hipotese nula (classificação média igual)\n"
     ]
    }
   ],
   "source": [
    "# verificando a classificação média dos usúarios Xbox One e PC:\n",
    "\n",
    "x_one_rating = df[df['platform'] == 'XOne']['user_score']  #1º conjunto de dados\n",
    "pc_rating = df[df['platform'] == 'PC']['user_score'] #2º conjunto de dados\n",
    "alpha = 0.05 # nível crítico de significância estatística\n",
    "   \n",
    "    # hipotese_nula: classificação média igual para ambas as plataformas\n",
    "    # hipotese_alternativa: classificação média diferente\n",
    "\n",
    "#teste:\n",
    "results = st.ttest_ind(x_one_rating, pc_rating, equal_var = False)\n",
    "print('valor-p:', results.pvalue)\n",
    "if results.pvalue < alpha:\n",
    "    print(\"rejeitar hipotese nula (classificação média igual)\")\n",
    "else:\n",
    "    print(\"não podemos rejeitar hipotese nula (classificação média igual)\")"
   ]
  },
  {
   "cell_type": "markdown",
   "metadata": {},
   "source": [
    "#### Resposta do Aluno: Ou seja, existe diferença da classificação média entre os dois conjuntos de dados, PC e X One."
   ]
  },
  {
   "cell_type": "code",
   "execution_count": 26,
   "metadata": {},
   "outputs": [
    {
     "name": "stdout",
     "output_type": "stream",
     "text": [
      "valor-p: 0.18782272416195633\n",
      "não podemos rejeitar hipotese nula (classificação média igual)\n"
     ]
    }
   ],
   "source": [
    "# verificando as classificações médias de usuários para os gêneros Action (ação) e Sports (esportes):\n",
    "action_rating = df[df['genre'] == 'Action']['user_score']\n",
    "sports_rating = df[df['genre'] == 'Sports']['user_score']\n",
    "alpha = 0.05 # nível crítico de significância estatística\n",
    "   \n",
    "    # hipotese_nula: classificação média igual para ambas os gêneros\n",
    "    # hipotese_alternativa: classificação média diferente\n",
    "\n",
    "#teste:\n",
    "results = st.ttest_ind(action_rating, sports_rating, equal_var = False)\n",
    "print('valor-p:', results.pvalue)\n",
    "if results.pvalue < alpha:\n",
    "    print(\"rejeitar hipotese nula (classificação média igual)\")\n",
    "else:\n",
    "    print(\"não podemos rejeitar hipotese nula (classificação média igual)\")"
   ]
  },
  {
   "cell_type": "markdown",
   "metadata": {},
   "source": [
    "#### Resposta do Aluno: é igual a classificação média entre os dois generos, Ação e Esportes."
   ]
  },
  {
   "cell_type": "markdown",
   "metadata": {},
   "source": [
    "#### Resposta do Aluno: a formulação das hipoteses alternativas e nulas foram feitas, partindo do principio que temos duas populações (2 conjuntos de dados) onde a dúvida principal é se há igualdade de média entre ambos os conjuntos de dados, no caso, classificação dos usuarios para: duas plataformas distintas, e posteriormente, dois gêneros distintos, e em ambos os casos, a afirmativa que são iguais, podendo definir como hipótese nula, e se são médias diferentes, definindo como hipótese alternativa."
   ]
  },
  {
   "cell_type": "markdown",
   "metadata": {},
   "source": [
    "#### Resposta do Aluno: Utilizei como critério a hipótese sobre igualdade das médias de duas populações, onde relacionei classificação do PC x classificação X One. e classificação do gênero Ação x classificação do gênero Esporte, utilizando a biblioteca scipy e ttest para poder responder o teste de hipotese."
   ]
  },
  {
   "cell_type": "markdown",
   "metadata": {},
   "source": [
    "Etapa 6. Escreva uma conclusão geral\n",
    "\n",
    "Formato: Complete a tarefa no Jupyter Notebook. Insira o código nas células code e textos de explicação nas células markdown. Aplique a formatação e adicione títulos."
   ]
  },
  {
   "cell_type": "markdown",
   "metadata": {},
   "source": [
    "### Resposta do Aluno: Conclusão Geral.\n",
    "\n",
    "#### Resposta do Aluno: Após realizar tais levantamentos sobre os dados dos jogos, ficando mais nítido com a utilização dos graficos, podemos chegar em uma conclusão, que existe de fato distinção do consumo em ambos as regiões, principalmente para o usuário do Japão, ou seja é uma demanda diferente do público Europa e America do Norte. Verificamos que a avaliação dos críticos, se torna inconclusiva em relação as vendas, visto que temos um banco de dados dos games mais antigos, antes dos anos 2000's, sem avaliação, sendo uma quantidade relativamente alta, e interferindo no comparativo critic_score x vendas, pois a média foi preenchida nos valores ausentes como avaliado na análise exploratória. Levando em consideração, o dado de maiores vendas sendo as plataformas mais novas como PS2, XBOX, PS3... o comparativo de avaliação critíca se torna ineficaz para afirmar essa tese. pois podemos imaginar que jogos antigos, podem vender mais por estarem maior tempo no mercado. podemos verificar abaixo quais jogos mais vendeu e assim ver se isso reflete sobre essa teoria."
   ]
  },
  {
   "cell_type": "code",
   "execution_count": 27,
   "metadata": {},
   "outputs": [
    {
     "name": "stdout",
     "output_type": "stream",
     "text": [
      "Os jogos que mais venderam no mundo: name\n",
      "Wii Sports            82.54\n",
      "Grand Theft Auto V    56.58\n",
      "Super Mario Bros.     45.31\n",
      "Name: total_sales, dtype: float64\n"
     ]
    }
   ],
   "source": [
    "# Apenas por curiosidade:\n",
    "campeoes_de_vendas = df.groupby('name')['total_sales'].sum().sort_values(ascending=False)\n",
    "print('Os jogos que mais venderam no mundo:', campeoes_de_vendas.head(3))"
   ]
  }
 ],
 "metadata": {
  "ExecuteTimeLog": [
   {
    "duration": 2490,
    "start_time": "2024-09-04T02:45:39.146Z"
   },
   {
    "duration": 44,
    "start_time": "2024-09-04T02:47:24.420Z"
   },
   {
    "duration": 15,
    "start_time": "2024-09-04T02:47:42.085Z"
   },
   {
    "duration": 9,
    "start_time": "2024-09-04T02:49:00.421Z"
   },
   {
    "duration": 3,
    "start_time": "2024-09-04T14:23:28.490Z"
   },
   {
    "duration": 24,
    "start_time": "2024-09-04T14:23:28.495Z"
   },
   {
    "duration": 11,
    "start_time": "2024-09-04T14:23:28.520Z"
   },
   {
    "duration": 7,
    "start_time": "2024-09-04T14:23:28.532Z"
   },
   {
    "duration": 6,
    "start_time": "2024-09-04T14:23:28.542Z"
   },
   {
    "duration": 3,
    "start_time": "2024-09-04T15:01:31.327Z"
   },
   {
    "duration": 6,
    "start_time": "2024-09-04T15:02:03.795Z"
   },
   {
    "duration": 3,
    "start_time": "2024-09-04T20:51:18.890Z"
   },
   {
    "duration": 23,
    "start_time": "2024-09-04T20:51:18.896Z"
   },
   {
    "duration": 10,
    "start_time": "2024-09-04T20:51:18.920Z"
   },
   {
    "duration": 7,
    "start_time": "2024-09-04T20:51:18.932Z"
   },
   {
    "duration": 2,
    "start_time": "2024-09-04T20:51:18.942Z"
   },
   {
    "duration": 5,
    "start_time": "2024-09-04T20:51:18.946Z"
   },
   {
    "duration": 2,
    "start_time": "2024-09-04T20:51:18.953Z"
   },
   {
    "duration": 3,
    "start_time": "2024-09-04T20:52:41.914Z"
   },
   {
    "duration": 798,
    "start_time": "2024-09-04T20:53:40.350Z"
   },
   {
    "duration": 76,
    "start_time": "2024-09-04T20:54:42.843Z"
   },
   {
    "duration": 12,
    "start_time": "2024-09-04T20:56:57.838Z"
   },
   {
    "duration": 426,
    "start_time": "2024-09-04T20:58:10.649Z"
   },
   {
    "duration": 48,
    "start_time": "2024-09-04T21:01:01.021Z"
   },
   {
    "duration": 78,
    "start_time": "2024-09-04T21:04:55.839Z"
   },
   {
    "duration": 75,
    "start_time": "2024-09-04T21:05:34.505Z"
   },
   {
    "duration": 4,
    "start_time": "2024-09-04T21:11:16.704Z"
   },
   {
    "duration": 4,
    "start_time": "2024-09-04T21:11:21.495Z"
   },
   {
    "duration": 10,
    "start_time": "2024-09-04T21:11:37.527Z"
   },
   {
    "duration": 60,
    "start_time": "2024-09-04T21:12:16.746Z"
   },
   {
    "duration": 22,
    "start_time": "2024-09-04T21:14:09.790Z"
   },
   {
    "duration": 13,
    "start_time": "2024-09-04T21:15:12.371Z"
   },
   {
    "duration": 5,
    "start_time": "2024-09-04T21:15:58.843Z"
   },
   {
    "duration": 7,
    "start_time": "2024-09-04T21:17:53.001Z"
   },
   {
    "duration": 13,
    "start_time": "2024-09-04T21:18:06.510Z"
   },
   {
    "duration": 10,
    "start_time": "2024-09-04T21:18:31.435Z"
   },
   {
    "duration": 10,
    "start_time": "2024-09-04T21:19:18.396Z"
   },
   {
    "duration": 2,
    "start_time": "2024-09-04T21:21:49.085Z"
   },
   {
    "duration": 10,
    "start_time": "2024-09-04T21:22:03.005Z"
   },
   {
    "duration": 8,
    "start_time": "2024-09-04T21:22:08.556Z"
   },
   {
    "duration": 3,
    "start_time": "2024-09-04T21:22:14.124Z"
   },
   {
    "duration": 26,
    "start_time": "2024-09-04T21:22:14.881Z"
   },
   {
    "duration": 13,
    "start_time": "2024-09-04T21:22:17.377Z"
   },
   {
    "duration": 9,
    "start_time": "2024-09-04T21:22:20.436Z"
   },
   {
    "duration": 3,
    "start_time": "2024-09-04T21:22:28.894Z"
   },
   {
    "duration": 6,
    "start_time": "2024-09-04T21:22:29.960Z"
   },
   {
    "duration": 6,
    "start_time": "2024-09-04T21:22:34.045Z"
   },
   {
    "duration": 13,
    "start_time": "2024-09-04T21:22:46.844Z"
   },
   {
    "duration": 10,
    "start_time": "2024-09-04T21:23:00.736Z"
   },
   {
    "duration": 25,
    "start_time": "2024-09-04T21:54:14.237Z"
   },
   {
    "duration": 12,
    "start_time": "2024-09-04T21:55:11.281Z"
   },
   {
    "duration": 10,
    "start_time": "2024-09-04T21:55:45.225Z"
   },
   {
    "duration": 12,
    "start_time": "2024-09-04T22:55:43.664Z"
   },
   {
    "duration": 11,
    "start_time": "2024-09-04T22:56:15.216Z"
   },
   {
    "duration": 10,
    "start_time": "2024-09-04T23:39:17.127Z"
   },
   {
    "duration": 10,
    "start_time": "2024-09-04T23:39:37.201Z"
   },
   {
    "duration": 11,
    "start_time": "2024-09-04T23:39:58.105Z"
   },
   {
    "duration": 11,
    "start_time": "2024-09-04T23:44:12.516Z"
   },
   {
    "duration": 6,
    "start_time": "2024-09-04T23:51:17.983Z"
   },
   {
    "duration": 6,
    "start_time": "2024-09-04T23:51:30.164Z"
   },
   {
    "duration": 22,
    "start_time": "2024-09-04T23:52:26.684Z"
   },
   {
    "duration": 20,
    "start_time": "2024-09-04T23:52:51.047Z"
   },
   {
    "duration": 23,
    "start_time": "2024-09-04T23:55:26.435Z"
   },
   {
    "duration": 16,
    "start_time": "2024-09-04T23:55:43.370Z"
   },
   {
    "duration": 7,
    "start_time": "2024-09-05T00:26:46.493Z"
   },
   {
    "duration": 6,
    "start_time": "2024-09-05T00:26:56.530Z"
   },
   {
    "duration": 12,
    "start_time": "2024-09-05T00:43:22.328Z"
   },
   {
    "duration": 2,
    "start_time": "2024-09-05T00:43:34.687Z"
   },
   {
    "duration": 12,
    "start_time": "2024-09-05T00:43:45.118Z"
   },
   {
    "duration": 3,
    "start_time": "2024-09-05T00:56:37.839Z"
   },
   {
    "duration": 615,
    "start_time": "2024-09-05T00:57:15.604Z"
   },
   {
    "duration": 181,
    "start_time": "2024-09-05T00:58:08.910Z"
   },
   {
    "duration": 152,
    "start_time": "2024-09-05T00:58:20.616Z"
   },
   {
    "duration": 151,
    "start_time": "2024-09-05T00:58:56.789Z"
   },
   {
    "duration": 15,
    "start_time": "2024-09-05T01:00:20.298Z"
   },
   {
    "duration": 102,
    "start_time": "2024-09-05T01:00:44.398Z"
   },
   {
    "duration": 3,
    "start_time": "2024-09-05T01:00:52.729Z"
   },
   {
    "duration": 6,
    "start_time": "2024-09-05T01:00:55.744Z"
   },
   {
    "duration": 100,
    "start_time": "2024-09-05T01:01:02.245Z"
   },
   {
    "duration": 2,
    "start_time": "2024-09-05T01:01:18.280Z"
   },
   {
    "duration": 2,
    "start_time": "2024-09-05T01:01:22.213Z"
   },
   {
    "duration": 26,
    "start_time": "2024-09-05T01:01:22.218Z"
   },
   {
    "duration": 12,
    "start_time": "2024-09-05T01:01:22.245Z"
   },
   {
    "duration": 7,
    "start_time": "2024-09-05T01:01:22.258Z"
   },
   {
    "duration": 2,
    "start_time": "2024-09-05T01:01:22.268Z"
   },
   {
    "duration": 7,
    "start_time": "2024-09-05T01:01:22.271Z"
   },
   {
    "duration": 38,
    "start_time": "2024-09-05T01:01:22.279Z"
   },
   {
    "duration": 8,
    "start_time": "2024-09-05T01:01:22.318Z"
   },
   {
    "duration": 3,
    "start_time": "2024-09-05T01:01:22.327Z"
   },
   {
    "duration": 10,
    "start_time": "2024-09-05T01:01:22.331Z"
   },
   {
    "duration": 5,
    "start_time": "2024-09-05T01:01:22.342Z"
   },
   {
    "duration": 2,
    "start_time": "2024-09-05T01:01:22.349Z"
   },
   {
    "duration": 102,
    "start_time": "2024-09-05T01:01:50.774Z"
   },
   {
    "duration": 14,
    "start_time": "2024-09-05T01:03:00.495Z"
   },
   {
    "duration": 101,
    "start_time": "2024-09-05T01:06:27.231Z"
   },
   {
    "duration": 99,
    "start_time": "2024-09-05T01:07:07.869Z"
   },
   {
    "duration": 107,
    "start_time": "2024-09-05T01:07:32.110Z"
   },
   {
    "duration": 105,
    "start_time": "2024-09-05T01:08:29.955Z"
   },
   {
    "duration": 132,
    "start_time": "2024-09-05T01:08:46.173Z"
   },
   {
    "duration": 127,
    "start_time": "2024-09-05T01:09:31.401Z"
   },
   {
    "duration": 17,
    "start_time": "2024-09-05T01:10:31.803Z"
   },
   {
    "duration": 110,
    "start_time": "2024-09-05T01:11:07.561Z"
   },
   {
    "duration": 132,
    "start_time": "2024-09-05T01:13:33.315Z"
   },
   {
    "duration": 272,
    "start_time": "2024-09-05T01:14:42.003Z"
   },
   {
    "duration": 134,
    "start_time": "2024-09-05T02:29:38.774Z"
   },
   {
    "duration": 92,
    "start_time": "2024-09-05T02:29:57.096Z"
   },
   {
    "duration": 103,
    "start_time": "2024-09-05T02:32:06.329Z"
   },
   {
    "duration": 4,
    "start_time": "2024-09-05T02:32:17.661Z"
   },
   {
    "duration": 18,
    "start_time": "2024-09-05T02:36:33.975Z"
   },
   {
    "duration": 132,
    "start_time": "2024-09-05T02:36:49.559Z"
   },
   {
    "duration": 104,
    "start_time": "2024-09-05T02:37:54.629Z"
   },
   {
    "duration": 284,
    "start_time": "2024-09-05T02:42:45.422Z"
   },
   {
    "duration": 315,
    "start_time": "2024-09-05T02:44:34.486Z"
   },
   {
    "duration": 244,
    "start_time": "2024-09-05T02:46:39.544Z"
   },
   {
    "duration": 135,
    "start_time": "2024-09-05T02:48:17.833Z"
   },
   {
    "duration": 217,
    "start_time": "2024-09-05T02:48:41.513Z"
   },
   {
    "duration": 4,
    "start_time": "2024-09-05T02:53:03.268Z"
   },
   {
    "duration": 4,
    "start_time": "2024-09-05T02:53:22.362Z"
   },
   {
    "duration": 127,
    "start_time": "2024-09-05T02:54:34.514Z"
   },
   {
    "duration": 18,
    "start_time": "2024-09-05T02:55:36.338Z"
   },
   {
    "duration": 17,
    "start_time": "2024-09-05T02:56:09.339Z"
   },
   {
    "duration": 4,
    "start_time": "2024-09-05T02:57:06.793Z"
   },
   {
    "duration": 15,
    "start_time": "2024-09-05T02:57:30.018Z"
   },
   {
    "duration": 284,
    "start_time": "2024-09-05T02:58:13.675Z"
   },
   {
    "duration": 194,
    "start_time": "2024-09-05T02:58:32.611Z"
   },
   {
    "duration": 94,
    "start_time": "2024-09-05T02:59:19.515Z"
   },
   {
    "duration": 189,
    "start_time": "2024-09-05T02:59:32.924Z"
   },
   {
    "duration": 214,
    "start_time": "2024-09-05T03:04:22.021Z"
   },
   {
    "duration": 182,
    "start_time": "2024-09-05T03:04:50.455Z"
   },
   {
    "duration": 192,
    "start_time": "2024-09-05T03:05:22.795Z"
   },
   {
    "duration": 427,
    "start_time": "2024-09-05T03:09:57.271Z"
   },
   {
    "duration": 294,
    "start_time": "2024-09-05T03:10:52.057Z"
   },
   {
    "duration": 264,
    "start_time": "2024-09-05T03:11:24.105Z"
   },
   {
    "duration": 130,
    "start_time": "2024-09-05T03:11:49.177Z"
   },
   {
    "duration": 138,
    "start_time": "2024-09-05T03:12:00.024Z"
   },
   {
    "duration": 189,
    "start_time": "2024-09-05T03:12:33.122Z"
   },
   {
    "duration": 930,
    "start_time": "2024-09-05T03:12:55.810Z"
   },
   {
    "duration": 826,
    "start_time": "2024-09-05T03:13:23.642Z"
   },
   {
    "duration": 138,
    "start_time": "2024-09-05T03:18:03.284Z"
   },
   {
    "duration": 206,
    "start_time": "2024-09-05T03:21:25.765Z"
   },
   {
    "duration": 823,
    "start_time": "2024-09-05T03:21:39.670Z"
   },
   {
    "duration": 145,
    "start_time": "2024-09-05T03:22:06.981Z"
   },
   {
    "duration": 108,
    "start_time": "2024-09-05T03:23:33.845Z"
   },
   {
    "duration": 156,
    "start_time": "2024-09-05T03:24:09.895Z"
   },
   {
    "duration": 97,
    "start_time": "2024-09-05T03:25:43.190Z"
   },
   {
    "duration": 95,
    "start_time": "2024-09-05T03:26:25.485Z"
   },
   {
    "duration": 513,
    "start_time": "2024-09-05T03:26:57.942Z"
   },
   {
    "duration": 176,
    "start_time": "2024-09-05T03:27:18.664Z"
   },
   {
    "duration": 184,
    "start_time": "2024-09-05T03:27:34.985Z"
   },
   {
    "duration": 1150,
    "start_time": "2024-09-05T03:28:49.095Z"
   },
   {
    "duration": 198,
    "start_time": "2024-09-05T03:44:08.910Z"
   },
   {
    "duration": 102,
    "start_time": "2024-09-05T03:44:30.717Z"
   },
   {
    "duration": 97,
    "start_time": "2024-09-05T03:44:48.190Z"
   },
   {
    "duration": 105,
    "start_time": "2024-09-05T03:48:52.891Z"
   },
   {
    "duration": 81,
    "start_time": "2024-09-05T03:49:05.615Z"
   },
   {
    "duration": 182,
    "start_time": "2024-09-05T03:49:17.630Z"
   },
   {
    "duration": 98,
    "start_time": "2024-09-05T03:49:37.503Z"
   },
   {
    "duration": 124,
    "start_time": "2024-09-05T03:50:18.200Z"
   },
   {
    "duration": 120,
    "start_time": "2024-09-05T03:50:31.871Z"
   },
   {
    "duration": 534,
    "start_time": "2024-09-05T03:50:52.743Z"
   },
   {
    "duration": 549,
    "start_time": "2024-09-05T03:51:21.744Z"
   },
   {
    "duration": 123,
    "start_time": "2024-09-05T03:51:33.192Z"
   },
   {
    "duration": 109,
    "start_time": "2024-09-05T03:51:44.794Z"
   },
   {
    "duration": 287,
    "start_time": "2024-09-05T03:52:25.280Z"
   },
   {
    "duration": 234,
    "start_time": "2024-09-05T03:53:01.457Z"
   },
   {
    "duration": 158,
    "start_time": "2024-09-05T03:53:55.913Z"
   },
   {
    "duration": 207,
    "start_time": "2024-09-05T03:54:07.338Z"
   },
   {
    "duration": 198,
    "start_time": "2024-09-05T03:54:22.969Z"
   },
   {
    "duration": 196,
    "start_time": "2024-09-05T03:54:32.545Z"
   },
   {
    "duration": 146,
    "start_time": "2024-09-05T03:55:02.674Z"
   },
   {
    "duration": 443,
    "start_time": "2024-09-05T03:56:40.707Z"
   },
   {
    "duration": 4,
    "start_time": "2024-09-05T03:56:49.961Z"
   },
   {
    "duration": 322,
    "start_time": "2024-09-05T03:56:55.753Z"
   },
   {
    "duration": 102,
    "start_time": "2024-09-05T03:57:32.858Z"
   },
   {
    "duration": 195,
    "start_time": "2024-09-05T03:58:38.043Z"
   },
   {
    "duration": 96,
    "start_time": "2024-09-05T04:07:53.450Z"
   },
   {
    "duration": 4,
    "start_time": "2024-09-05T04:09:11.937Z"
   },
   {
    "duration": 4,
    "start_time": "2024-09-05T04:09:25.966Z"
   },
   {
    "duration": 3,
    "start_time": "2024-09-05T04:09:32.251Z"
   },
   {
    "duration": 4,
    "start_time": "2024-09-05T04:11:56.832Z"
   },
   {
    "duration": 3,
    "start_time": "2024-09-05T04:13:35.873Z"
   },
   {
    "duration": 98,
    "start_time": "2024-09-05T04:13:49.729Z"
   },
   {
    "duration": 233,
    "start_time": "2024-09-05T04:14:55.178Z"
   },
   {
    "duration": 161,
    "start_time": "2024-09-05T04:19:51.395Z"
   },
   {
    "duration": 43,
    "start_time": "2024-09-05T04:20:18.838Z"
   },
   {
    "duration": 383,
    "start_time": "2024-09-05T04:20:26.861Z"
   },
   {
    "duration": 42,
    "start_time": "2024-09-05T04:21:52.349Z"
   },
   {
    "duration": 2451,
    "start_time": "2024-09-05T11:21:40.494Z"
   },
   {
    "duration": 44,
    "start_time": "2024-09-05T11:21:42.947Z"
   },
   {
    "duration": 12,
    "start_time": "2024-09-05T11:21:42.992Z"
   },
   {
    "duration": 7,
    "start_time": "2024-09-05T11:21:43.006Z"
   },
   {
    "duration": 2,
    "start_time": "2024-09-05T11:21:43.015Z"
   },
   {
    "duration": 6,
    "start_time": "2024-09-05T11:21:43.024Z"
   },
   {
    "duration": 12,
    "start_time": "2024-09-05T11:21:43.031Z"
   },
   {
    "duration": 9,
    "start_time": "2024-09-05T11:21:43.045Z"
   },
   {
    "duration": 2,
    "start_time": "2024-09-05T11:21:43.055Z"
   },
   {
    "duration": 9,
    "start_time": "2024-09-05T11:21:43.061Z"
   },
   {
    "duration": 6,
    "start_time": "2024-09-05T11:21:43.072Z"
   },
   {
    "duration": 290,
    "start_time": "2024-09-05T11:21:43.080Z"
   },
   {
    "duration": 225,
    "start_time": "2024-09-05T11:21:43.372Z"
   },
   {
    "duration": 7,
    "start_time": "2024-09-05T11:25:10.353Z"
   },
   {
    "duration": 10,
    "start_time": "2024-09-05T11:25:23.654Z"
   },
   {
    "duration": 5,
    "start_time": "2024-09-05T11:28:06.522Z"
   },
   {
    "duration": 63,
    "start_time": "2024-09-05T11:28:18.510Z"
   },
   {
    "duration": 13,
    "start_time": "2024-09-05T11:28:42.718Z"
   },
   {
    "duration": 237,
    "start_time": "2024-09-05T11:29:05.215Z"
   },
   {
    "duration": 244,
    "start_time": "2024-09-05T11:30:31.320Z"
   },
   {
    "duration": 10,
    "start_time": "2024-09-05T11:32:21.856Z"
   },
   {
    "duration": 10,
    "start_time": "2024-09-05T11:32:39.667Z"
   },
   {
    "duration": 5,
    "start_time": "2024-09-05T11:33:02.096Z"
   },
   {
    "duration": 242,
    "start_time": "2024-09-05T11:34:50.153Z"
   },
   {
    "duration": 543,
    "start_time": "2024-09-05T11:39:27.181Z"
   },
   {
    "duration": 4,
    "start_time": "2024-09-05T11:40:32.195Z"
   },
   {
    "duration": 299,
    "start_time": "2024-09-05T11:41:45.885Z"
   },
   {
    "duration": 140,
    "start_time": "2024-09-05T11:42:35.043Z"
   },
   {
    "duration": 732,
    "start_time": "2024-09-05T11:42:51.695Z"
   },
   {
    "duration": 509,
    "start_time": "2024-09-05T11:43:10.582Z"
   },
   {
    "duration": 151,
    "start_time": "2024-09-05T11:43:33.277Z"
   },
   {
    "duration": 1349,
    "start_time": "2024-09-05T11:43:39.085Z"
   },
   {
    "duration": 235,
    "start_time": "2024-09-05T11:44:22.429Z"
   },
   {
    "duration": 140,
    "start_time": "2024-09-05T11:44:59.244Z"
   },
   {
    "duration": 104,
    "start_time": "2024-09-05T11:46:42.134Z"
   },
   {
    "duration": 517,
    "start_time": "2024-09-05T11:47:00.726Z"
   },
   {
    "duration": 117,
    "start_time": "2024-09-05T11:47:22.295Z"
   },
   {
    "duration": 197,
    "start_time": "2024-09-05T11:47:49.813Z"
   },
   {
    "duration": 376,
    "start_time": "2024-09-05T11:49:19.806Z"
   },
   {
    "duration": 25,
    "start_time": "2024-09-05T11:52:46.889Z"
   },
   {
    "duration": 129,
    "start_time": "2024-09-05T11:54:04.761Z"
   },
   {
    "duration": 241,
    "start_time": "2024-09-05T11:54:17.847Z"
   },
   {
    "duration": 237,
    "start_time": "2024-09-05T11:54:29.991Z"
   },
   {
    "duration": 347,
    "start_time": "2024-09-05T12:01:14.244Z"
   },
   {
    "duration": 296,
    "start_time": "2024-09-05T12:01:53.117Z"
   },
   {
    "duration": 251,
    "start_time": "2024-09-05T12:02:30.051Z"
   },
   {
    "duration": 133,
    "start_time": "2024-09-05T12:03:29.603Z"
   },
   {
    "duration": 253,
    "start_time": "2024-09-05T12:04:22.345Z"
   },
   {
    "duration": 301,
    "start_time": "2024-09-05T12:04:29.170Z"
   },
   {
    "duration": 264,
    "start_time": "2024-09-05T12:04:49.899Z"
   },
   {
    "duration": 139,
    "start_time": "2024-09-05T12:05:22.757Z"
   },
   {
    "duration": 194,
    "start_time": "2024-09-05T12:07:39.542Z"
   },
   {
    "duration": 332,
    "start_time": "2024-09-05T12:08:45.728Z"
   },
   {
    "duration": 76,
    "start_time": "2024-09-05T12:09:37.521Z"
   },
   {
    "duration": 0,
    "start_time": "2024-09-05T12:17:39.330Z"
   },
   {
    "duration": 0,
    "start_time": "2024-09-05T12:17:39.332Z"
   },
   {
    "duration": 0,
    "start_time": "2024-09-05T12:17:39.337Z"
   },
   {
    "duration": 0,
    "start_time": "2024-09-05T12:17:39.339Z"
   },
   {
    "duration": 0,
    "start_time": "2024-09-05T12:17:39.344Z"
   },
   {
    "duration": 0,
    "start_time": "2024-09-05T12:17:39.347Z"
   },
   {
    "duration": 0,
    "start_time": "2024-09-05T12:17:39.352Z"
   },
   {
    "duration": 0,
    "start_time": "2024-09-05T12:17:39.357Z"
   },
   {
    "duration": 0,
    "start_time": "2024-09-05T12:17:39.359Z"
   },
   {
    "duration": 0,
    "start_time": "2024-09-05T12:17:39.361Z"
   },
   {
    "duration": 0,
    "start_time": "2024-09-05T12:17:39.364Z"
   },
   {
    "duration": 0,
    "start_time": "2024-09-05T12:17:39.366Z"
   },
   {
    "duration": 10,
    "start_time": "2024-09-05T12:18:16.109Z"
   },
   {
    "duration": 6,
    "start_time": "2024-09-05T12:18:19.313Z"
   },
   {
    "duration": 237,
    "start_time": "2024-09-05T12:18:22.545Z"
   },
   {
    "duration": 7,
    "start_time": "2024-09-05T12:18:30.137Z"
   },
   {
    "duration": 23,
    "start_time": "2024-09-05T12:18:31.281Z"
   },
   {
    "duration": 12,
    "start_time": "2024-09-05T12:18:33.156Z"
   },
   {
    "duration": 10,
    "start_time": "2024-09-05T12:18:35.801Z"
   },
   {
    "duration": 3,
    "start_time": "2024-09-05T12:18:46.314Z"
   },
   {
    "duration": 6,
    "start_time": "2024-09-05T12:18:47.466Z"
   },
   {
    "duration": 14,
    "start_time": "2024-09-05T12:18:49.881Z"
   },
   {
    "duration": 8,
    "start_time": "2024-09-05T12:18:53.593Z"
   },
   {
    "duration": 108,
    "start_time": "2024-09-05T12:42:38.494Z"
   },
   {
    "duration": 114,
    "start_time": "2024-09-05T12:44:53.491Z"
   },
   {
    "duration": 5,
    "start_time": "2024-09-05T16:52:25.370Z"
   },
   {
    "duration": 3,
    "start_time": "2024-09-05T17:07:04.702Z"
   },
   {
    "duration": 16,
    "start_time": "2024-09-05T17:07:14.805Z"
   },
   {
    "duration": 12,
    "start_time": "2024-09-05T17:07:37.322Z"
   },
   {
    "duration": 17,
    "start_time": "2024-09-05T17:08:07.623Z"
   },
   {
    "duration": 16,
    "start_time": "2024-09-05T17:08:18.332Z"
   },
   {
    "duration": 12,
    "start_time": "2024-09-05T17:08:33.049Z"
   },
   {
    "duration": 9,
    "start_time": "2024-09-05T17:09:57.045Z"
   },
   {
    "duration": 11,
    "start_time": "2024-09-05T17:11:24.566Z"
   },
   {
    "duration": 118,
    "start_time": "2024-09-05T17:16:04.828Z"
   },
   {
    "duration": 102,
    "start_time": "2024-09-05T17:17:05.581Z"
   },
   {
    "duration": 41,
    "start_time": "2024-09-05T17:19:49.660Z"
   },
   {
    "duration": 100,
    "start_time": "2024-09-05T17:19:56.754Z"
   },
   {
    "duration": 121,
    "start_time": "2024-09-05T17:20:24.775Z"
   },
   {
    "duration": 133,
    "start_time": "2024-09-05T17:29:57.181Z"
   },
   {
    "duration": 119,
    "start_time": "2024-09-05T17:30:08.443Z"
   },
   {
    "duration": 130,
    "start_time": "2024-09-05T17:30:49.170Z"
   },
   {
    "duration": 123,
    "start_time": "2024-09-05T17:31:00.533Z"
   },
   {
    "duration": 120,
    "start_time": "2024-09-05T17:31:53.311Z"
   },
   {
    "duration": 78,
    "start_time": "2024-09-05T17:41:25.230Z"
   },
   {
    "duration": 371,
    "start_time": "2024-09-05T17:43:26.715Z"
   },
   {
    "duration": 406,
    "start_time": "2024-09-05T17:43:52.489Z"
   },
   {
    "duration": 287,
    "start_time": "2024-09-05T17:44:08.197Z"
   },
   {
    "duration": 386,
    "start_time": "2024-09-05T17:44:24.468Z"
   },
   {
    "duration": 17,
    "start_time": "2024-09-05T17:45:26.375Z"
   },
   {
    "duration": 26,
    "start_time": "2024-09-05T17:45:35.974Z"
   },
   {
    "duration": 113,
    "start_time": "2024-09-05T17:45:42.636Z"
   },
   {
    "duration": 357,
    "start_time": "2024-09-05T17:46:32.836Z"
   },
   {
    "duration": 376,
    "start_time": "2024-09-05T17:48:41.598Z"
   },
   {
    "duration": 24,
    "start_time": "2024-09-05T17:50:24.631Z"
   },
   {
    "duration": 15,
    "start_time": "2024-09-05T17:51:03.177Z"
   },
   {
    "duration": 13,
    "start_time": "2024-09-05T17:51:29.574Z"
   },
   {
    "duration": 5,
    "start_time": "2024-09-05T17:51:34.954Z"
   },
   {
    "duration": 5,
    "start_time": "2024-09-05T17:51:53.475Z"
   },
   {
    "duration": 5,
    "start_time": "2024-09-05T17:52:03.110Z"
   },
   {
    "duration": 6,
    "start_time": "2024-09-05T17:53:06.244Z"
   },
   {
    "duration": 15,
    "start_time": "2024-09-05T17:53:22.217Z"
   },
   {
    "duration": 6,
    "start_time": "2024-09-05T17:53:42.647Z"
   },
   {
    "duration": 6,
    "start_time": "2024-09-05T18:15:47.736Z"
   },
   {
    "duration": 25,
    "start_time": "2024-09-05T18:15:59.629Z"
   },
   {
    "duration": 3,
    "start_time": "2024-09-05T18:16:25.384Z"
   },
   {
    "duration": 12,
    "start_time": "2024-09-05T18:19:30.242Z"
   },
   {
    "duration": 101,
    "start_time": "2024-09-05T18:21:12.689Z"
   },
   {
    "duration": 109,
    "start_time": "2024-09-05T18:21:39.787Z"
   },
   {
    "duration": 103,
    "start_time": "2024-09-05T18:21:49.098Z"
   },
   {
    "duration": 108,
    "start_time": "2024-09-05T18:22:23.718Z"
   },
   {
    "duration": 30,
    "start_time": "2024-09-05T18:22:52.604Z"
   },
   {
    "duration": 105,
    "start_time": "2024-09-05T18:23:01.322Z"
   },
   {
    "duration": 134,
    "start_time": "2024-09-05T18:27:03.592Z"
   },
   {
    "duration": 115,
    "start_time": "2024-09-05T18:29:49.814Z"
   },
   {
    "duration": 8,
    "start_time": "2024-09-05T19:16:05.965Z"
   },
   {
    "duration": 14,
    "start_time": "2024-09-05T19:16:36.946Z"
   },
   {
    "duration": 8,
    "start_time": "2024-09-05T19:16:53.856Z"
   },
   {
    "duration": 8,
    "start_time": "2024-09-05T19:18:14.904Z"
   },
   {
    "duration": 4,
    "start_time": "2024-09-05T19:20:28.161Z"
   },
   {
    "duration": 8,
    "start_time": "2024-09-05T19:20:56.595Z"
   },
   {
    "duration": 8,
    "start_time": "2024-09-05T19:21:06.904Z"
   },
   {
    "duration": 8,
    "start_time": "2024-09-05T19:22:14.610Z"
   },
   {
    "duration": 8,
    "start_time": "2024-09-05T19:23:49.354Z"
   },
   {
    "duration": 10,
    "start_time": "2024-09-05T19:31:48.385Z"
   },
   {
    "duration": 14,
    "start_time": "2024-09-05T19:36:39.223Z"
   },
   {
    "duration": 14,
    "start_time": "2024-09-05T19:36:59.506Z"
   },
   {
    "duration": 14,
    "start_time": "2024-09-05T19:41:54.153Z"
   },
   {
    "duration": 2501,
    "start_time": "2024-09-05T19:42:25.107Z"
   },
   {
    "duration": 22,
    "start_time": "2024-09-05T19:43:01.942Z"
   },
   {
    "duration": 11,
    "start_time": "2024-09-05T19:45:33.435Z"
   },
   {
    "duration": 8,
    "start_time": "2024-09-05T19:46:09.083Z"
   },
   {
    "duration": 39,
    "start_time": "2024-09-05T19:55:29.683Z"
   },
   {
    "duration": 7,
    "start_time": "2024-09-05T19:56:30.781Z"
   },
   {
    "duration": 6,
    "start_time": "2024-09-05T19:57:39.078Z"
   },
   {
    "duration": 7,
    "start_time": "2024-09-05T19:57:52.510Z"
   },
   {
    "duration": 19,
    "start_time": "2024-09-05T20:05:39.778Z"
   },
   {
    "duration": 414,
    "start_time": "2024-09-05T20:05:53.244Z"
   },
   {
    "duration": 7,
    "start_time": "2024-09-05T20:06:27.159Z"
   },
   {
    "duration": 79,
    "start_time": "2024-09-05T20:07:34.152Z"
   },
   {
    "duration": 103,
    "start_time": "2024-09-05T20:09:56.876Z"
   },
   {
    "duration": 132,
    "start_time": "2024-09-05T20:10:07.262Z"
   },
   {
    "duration": 124,
    "start_time": "2024-09-05T20:11:40.048Z"
   },
   {
    "duration": 132,
    "start_time": "2024-09-05T20:11:57.349Z"
   },
   {
    "duration": 126,
    "start_time": "2024-09-05T20:21:18.799Z"
   },
   {
    "duration": 127,
    "start_time": "2024-09-05T20:21:45.887Z"
   },
   {
    "duration": 131,
    "start_time": "2024-09-05T20:21:53.360Z"
   },
   {
    "duration": 129,
    "start_time": "2024-09-05T20:22:50.789Z"
   },
   {
    "duration": 140,
    "start_time": "2024-09-05T20:26:59.705Z"
   },
   {
    "duration": 129,
    "start_time": "2024-09-05T20:28:11.147Z"
   },
   {
    "duration": 3736,
    "start_time": "2024-09-05T20:28:21.816Z"
   },
   {
    "duration": 118,
    "start_time": "2024-09-05T20:29:47.306Z"
   },
   {
    "duration": 120,
    "start_time": "2024-09-05T20:31:00.352Z"
   },
   {
    "duration": 5,
    "start_time": "2024-09-05T20:37:37.172Z"
   },
   {
    "duration": 104,
    "start_time": "2024-09-05T20:39:23.076Z"
   },
   {
    "duration": 86,
    "start_time": "2024-09-05T20:40:13.590Z"
   },
   {
    "duration": 208,
    "start_time": "2024-09-05T20:40:43.650Z"
   },
   {
    "duration": 200,
    "start_time": "2024-09-05T20:41:24.190Z"
   },
   {
    "duration": 2,
    "start_time": "2024-09-05T21:23:54.364Z"
   },
   {
    "duration": 5,
    "start_time": "2024-09-05T22:04:49.755Z"
   },
   {
    "duration": 8,
    "start_time": "2024-09-05T22:05:52.802Z"
   },
   {
    "duration": 18,
    "start_time": "2024-09-05T22:18:36.477Z"
   },
   {
    "duration": 21,
    "start_time": "2024-09-05T22:19:17.524Z"
   },
   {
    "duration": 18,
    "start_time": "2024-09-05T22:19:31.095Z"
   },
   {
    "duration": 312,
    "start_time": "2024-09-05T22:21:15.500Z"
   },
   {
    "duration": 17,
    "start_time": "2024-09-05T22:21:32.773Z"
   },
   {
    "duration": 3,
    "start_time": "2024-09-05T22:21:57.618Z"
   },
   {
    "duration": 7,
    "start_time": "2024-09-05T22:22:13.561Z"
   },
   {
    "duration": 2,
    "start_time": "2024-09-05T22:32:23.800Z"
   },
   {
    "duration": 4,
    "start_time": "2024-09-05T22:41:17.894Z"
   },
   {
    "duration": 8,
    "start_time": "2024-09-05T22:41:41.272Z"
   },
   {
    "duration": 10,
    "start_time": "2024-09-05T22:44:59.143Z"
   },
   {
    "duration": 9,
    "start_time": "2024-09-05T22:52:34.779Z"
   },
   {
    "duration": 8,
    "start_time": "2024-09-05T22:56:17.975Z"
   },
   {
    "duration": 6,
    "start_time": "2024-09-05T23:30:47.677Z"
   },
   {
    "duration": 3,
    "start_time": "2024-09-05T23:30:55.144Z"
   },
   {
    "duration": 3,
    "start_time": "2024-09-05T23:31:06.148Z"
   },
   {
    "duration": 4,
    "start_time": "2024-09-05T23:31:10.369Z"
   },
   {
    "duration": 16,
    "start_time": "2024-09-05T23:31:46.684Z"
   },
   {
    "duration": 17,
    "start_time": "2024-09-05T23:32:33.636Z"
   },
   {
    "duration": 24,
    "start_time": "2024-09-05T23:32:54.323Z"
   },
   {
    "duration": 20,
    "start_time": "2024-09-05T23:33:19.067Z"
   },
   {
    "duration": 15,
    "start_time": "2024-09-05T23:36:08.990Z"
   },
   {
    "duration": 858,
    "start_time": "2024-09-06T11:59:28.607Z"
   },
   {
    "duration": 43,
    "start_time": "2024-09-06T11:59:29.467Z"
   },
   {
    "duration": 12,
    "start_time": "2024-09-06T11:59:29.512Z"
   },
   {
    "duration": 8,
    "start_time": "2024-09-06T11:59:29.527Z"
   },
   {
    "duration": 3,
    "start_time": "2024-09-06T11:59:30.666Z"
   },
   {
    "duration": 6,
    "start_time": "2024-09-06T11:59:30.855Z"
   },
   {
    "duration": 13,
    "start_time": "2024-09-06T11:59:31.035Z"
   },
   {
    "duration": 9,
    "start_time": "2024-09-06T11:59:31.553Z"
   },
   {
    "duration": 10,
    "start_time": "2024-09-06T11:59:32.191Z"
   },
   {
    "duration": 5,
    "start_time": "2024-09-06T11:59:32.382Z"
   },
   {
    "duration": 235,
    "start_time": "2024-09-06T11:59:32.512Z"
   },
   {
    "duration": 131,
    "start_time": "2024-09-06T11:59:32.749Z"
   },
   {
    "duration": 177,
    "start_time": "2024-09-06T11:59:33.025Z"
   },
   {
    "duration": 378,
    "start_time": "2024-09-06T11:59:33.215Z"
   },
   {
    "duration": 118,
    "start_time": "2024-09-06T11:59:33.595Z"
   },
   {
    "duration": 6,
    "start_time": "2024-09-06T11:59:34.461Z"
   },
   {
    "duration": 9,
    "start_time": "2024-09-06T11:59:34.934Z"
   },
   {
    "duration": 126,
    "start_time": "2024-09-06T11:59:35.116Z"
   },
   {
    "duration": 85,
    "start_time": "2024-09-06T11:59:35.265Z"
   },
   {
    "duration": 208,
    "start_time": "2024-09-06T11:59:35.426Z"
   },
   {
    "duration": 288,
    "start_time": "2024-09-06T11:59:35.638Z"
   },
   {
    "duration": 2,
    "start_time": "2024-09-06T11:59:36.918Z"
   },
   {
    "duration": 9,
    "start_time": "2024-09-06T11:59:37.163Z"
   },
   {
    "duration": 8,
    "start_time": "2024-09-06T11:59:38.052Z"
   },
   {
    "duration": 18,
    "start_time": "2024-09-06T11:59:45.041Z"
   },
   {
    "duration": 6,
    "start_time": "2024-09-06T11:59:56.063Z"
   },
   {
    "duration": 155,
    "start_time": "2024-09-07T00:01:08.360Z"
   },
   {
    "duration": 2490,
    "start_time": "2024-09-07T00:01:22.458Z"
   },
   {
    "duration": 39,
    "start_time": "2024-09-07T00:01:24.951Z"
   },
   {
    "duration": 11,
    "start_time": "2024-09-07T00:01:24.992Z"
   },
   {
    "duration": 8,
    "start_time": "2024-09-07T00:01:25.005Z"
   },
   {
    "duration": 2,
    "start_time": "2024-09-07T00:01:25.016Z"
   },
   {
    "duration": 5,
    "start_time": "2024-09-07T00:01:25.020Z"
   },
   {
    "duration": 13,
    "start_time": "2024-09-07T00:01:25.027Z"
   },
   {
    "duration": 8,
    "start_time": "2024-09-07T00:01:25.070Z"
   },
   {
    "duration": 11,
    "start_time": "2024-09-07T00:01:25.080Z"
   },
   {
    "duration": 5,
    "start_time": "2024-09-07T00:01:25.092Z"
   },
   {
    "duration": 244,
    "start_time": "2024-09-07T00:01:25.099Z"
   },
   {
    "duration": 127,
    "start_time": "2024-09-07T00:01:25.345Z"
   },
   {
    "duration": 6,
    "start_time": "2024-09-07T00:01:25.474Z"
   },
   {
    "duration": 137,
    "start_time": "2024-09-07T00:01:25.484Z"
   },
   {
    "duration": 428,
    "start_time": "2024-09-07T00:01:25.623Z"
   },
   {
    "duration": 120,
    "start_time": "2024-09-07T00:01:26.053Z"
   },
   {
    "duration": 6,
    "start_time": "2024-09-07T00:01:26.175Z"
   },
   {
    "duration": 8,
    "start_time": "2024-09-07T00:01:26.182Z"
   },
   {
    "duration": 143,
    "start_time": "2024-09-07T00:01:26.191Z"
   },
   {
    "duration": 93,
    "start_time": "2024-09-07T00:01:26.340Z"
   },
   {
    "duration": 227,
    "start_time": "2024-09-07T00:01:26.435Z"
   },
   {
    "duration": 222,
    "start_time": "2024-09-07T00:01:26.670Z"
   },
   {
    "duration": 2,
    "start_time": "2024-09-07T00:01:26.895Z"
   },
   {
    "duration": 9,
    "start_time": "2024-09-07T00:01:26.899Z"
   },
   {
    "duration": 8,
    "start_time": "2024-09-07T00:01:26.909Z"
   },
   {
    "duration": 13,
    "start_time": "2024-09-07T00:01:26.919Z"
   },
   {
    "duration": 8,
    "start_time": "2024-09-07T00:02:06.848Z"
   },
   {
    "duration": 76,
    "start_time": "2024-09-07T00:07:31.498Z"
   },
   {
    "duration": 14,
    "start_time": "2024-09-07T00:09:38.663Z"
   },
   {
    "duration": 14,
    "start_time": "2024-09-07T00:10:08.824Z"
   },
   {
    "duration": 15,
    "start_time": "2024-09-07T00:11:48.181Z"
   },
   {
    "duration": 4,
    "start_time": "2024-09-07T00:12:15.394Z"
   },
   {
    "duration": 3,
    "start_time": "2024-09-07T00:12:22.227Z"
   },
   {
    "duration": 16,
    "start_time": "2024-09-07T00:12:48.441Z"
   },
   {
    "duration": 5,
    "start_time": "2024-09-07T00:12:58.068Z"
   },
   {
    "duration": 15,
    "start_time": "2024-09-07T00:14:18.221Z"
   },
   {
    "duration": 4,
    "start_time": "2024-09-07T00:16:14.837Z"
   },
   {
    "duration": 81,
    "start_time": "2024-09-07T00:18:22.601Z"
   },
   {
    "duration": 15,
    "start_time": "2024-09-07T00:18:30.145Z"
   },
   {
    "duration": 16,
    "start_time": "2024-09-07T00:19:58.459Z"
   },
   {
    "duration": 1121,
    "start_time": "2024-09-07T00:20:30.593Z"
   },
   {
    "duration": 757,
    "start_time": "2024-09-07T00:21:17.821Z"
   },
   {
    "duration": 750,
    "start_time": "2024-09-07T00:36:47.909Z"
   },
   {
    "duration": 821,
    "start_time": "2024-09-07T00:38:57.572Z"
   },
   {
    "duration": 813,
    "start_time": "2024-09-07T00:47:27.730Z"
   },
   {
    "duration": 7,
    "start_time": "2024-09-07T00:47:45.505Z"
   },
   {
    "duration": 776,
    "start_time": "2024-09-07T00:52:11.199Z"
   },
   {
    "duration": 908,
    "start_time": "2024-09-07T00:52:36.271Z"
   },
   {
    "duration": 777,
    "start_time": "2024-09-07T00:53:18.809Z"
   },
   {
    "duration": 788,
    "start_time": "2024-09-07T00:55:23.954Z"
   },
   {
    "duration": 5,
    "start_time": "2024-09-07T01:02:52.249Z"
   },
   {
    "duration": 416,
    "start_time": "2024-09-07T01:08:38.975Z"
   },
   {
    "duration": 42,
    "start_time": "2024-09-07T01:19:39.218Z"
   },
   {
    "duration": 42,
    "start_time": "2024-09-07T01:19:52.962Z"
   },
   {
    "duration": 42,
    "start_time": "2024-09-07T01:20:07.517Z"
   },
   {
    "duration": 14,
    "start_time": "2024-09-07T01:21:45.903Z"
   },
   {
    "duration": 112,
    "start_time": "2024-09-07T01:23:08.999Z"
   },
   {
    "duration": 191,
    "start_time": "2024-09-07T01:31:40.981Z"
   }
  ],
  "kernelspec": {
   "display_name": "Python 3 (ipykernel)",
   "language": "python",
   "name": "python3"
  },
  "language_info": {
   "codemirror_mode": {
    "name": "ipython",
    "version": 3
   },
   "file_extension": ".py",
   "mimetype": "text/x-python",
   "name": "python",
   "nbconvert_exporter": "python",
   "pygments_lexer": "ipython3",
   "version": "3.9.19"
  },
  "toc": {
   "base_numbering": 1,
   "nav_menu": {},
   "number_sections": true,
   "sideBar": true,
   "skip_h1_title": true,
   "title_cell": "Table of Contents",
   "title_sidebar": "Contents",
   "toc_cell": false,
   "toc_position": {},
   "toc_section_display": true,
   "toc_window_display": false
  }
 },
 "nbformat": 4,
 "nbformat_minor": 2
}
